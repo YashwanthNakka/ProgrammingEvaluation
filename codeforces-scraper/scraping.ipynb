{
 "cells": [
  {
   "cell_type": "code",
   "execution_count": 3,
   "metadata": {},
   "outputs": [],
   "source": [
    "import requests\n",
    "import hashlib"
   ]
  },
  {
   "cell_type": "code",
   "execution_count": 2,
   "metadata": {},
   "outputs": [],
   "source": [
    "API_KEY = \"74f24cbf1c58caa2cc28bd5b45b40b6f3492cb5d\"\n",
    "SECRET = \"b92bf08bdb4c254ee88d92b2617eda36a18e8f90\""
   ]
  },
  {
   "cell_type": "code",
   "execution_count": 9,
   "metadata": {},
   "outputs": [
    {
     "data": {
      "text/plain": [
       "'9b71d224bd62f3785d96d46ad3ea3d73319bfbc2890caadae2dff72519673ca72323c3d99ba5c11d7c7acc6e14b8c5da0c4663475c2e5c3adef46f73bcdec043'"
      ]
     },
     "execution_count": 9,
     "metadata": {},
     "output_type": "execute_result"
    }
   ],
   "source": [
    "hashlib.sha512(\"hello\".encode(\"utf-8\")).hexdigest()"
   ]
  },
  {
   "cell_type": "code",
   "execution_count": 15,
   "metadata": {},
   "outputs": [],
   "source": [
    "import time\n",
    "import random"
   ]
  },
  {
   "cell_type": "code",
   "execution_count": 14,
   "metadata": {},
   "outputs": [
    {
     "data": {
      "text/plain": [
       "1738341508"
      ]
     },
     "execution_count": 14,
     "metadata": {},
     "output_type": "execute_result"
    }
   ],
   "source": [
    "int(time.time())"
   ]
  },
  {
   "cell_type": "code",
   "execution_count": 16,
   "metadata": {},
   "outputs": [
    {
     "ename": "SyntaxError",
     "evalue": "invalid syntax (2105271314.py, line 2)",
     "output_type": "error",
     "traceback": [
      "\u001b[1;36m  Cell \u001b[1;32mIn[16], line 2\u001b[1;36m\u001b[0m\n\u001b[1;33m    unixTime = time.time().1000\u001b[0m\n\u001b[1;37m                          ^\u001b[0m\n\u001b[1;31mSyntaxError\u001b[0m\u001b[1;31m:\u001b[0m invalid syntax\n"
     ]
    }
   ],
   "source": [
    "def createRequest(url):\n",
    "    unixTime = time.time()\n",
    "    randomString = str(random.randint(100000, 1000000))\n",
    "    \n"
   ]
  },
  {
   "cell_type": "code",
   "execution_count": 18,
   "metadata": {},
   "outputs": [
    {
     "data": {
      "text/plain": [
       "'llo'"
      ]
     },
     "execution_count": 18,
     "metadata": {},
     "output_type": "execute_result"
    }
   ],
   "source": []
  },
  {
   "cell_type": "code",
   "execution_count": 21,
   "metadata": {},
   "outputs": [
    {
     "name": "stdout",
     "output_type": "stream",
     "text": [
      "\n",
      "Accurate Submissions:\n",
      "Failed to fetch submission code: 403\n",
      "Submission ID: 303782228\n",
      "Problem: Restructuring Company (Index: D)\n",
      "Problem Statement: No statement available\n",
      "Verdict: OK\n",
      "Language: C++23 (GCC 14-64, msys2)\n",
      "Submission Time: 1738329919\n",
      "Code:\n",
      "None\n",
      "--------------------------------------------------\n",
      "Failed to fetch submission code: 403\n",
      "Submission ID: 303731993\n",
      "Problem: Logistical Questions (Index: C)\n",
      "Problem Statement: No statement available\n",
      "Verdict: OK\n",
      "Language: C++20 (GCC 13-64)\n",
      "Submission Time: 1738296857\n",
      "Code:\n",
      "None\n",
      "--------------------------------------------------\n",
      "\n",
      "Incorrect Submissions:\n",
      "Failed to fetch submission code: 403\n",
      "Submission ID: 303731952\n",
      "Problem: Logistical Questions (Index: C)\n",
      "Problem Statement: No statement available\n",
      "Verdict: WRONG_ANSWER\n",
      "Language: C++20 (GCC 13-64)\n",
      "Submission Time: 1738296820\n",
      "Code:\n",
      "None\n",
      "--------------------------------------------------\n",
      "Failed to fetch submission code: 403\n",
      "Submission ID: 303731853\n",
      "Problem: Logistical Questions (Index: C)\n",
      "Problem Statement: No statement available\n",
      "Verdict: WRONG_ANSWER\n",
      "Language: C++20 (GCC 13-64)\n",
      "Submission Time: 1738296711\n",
      "Code:\n",
      "None\n",
      "--------------------------------------------------\n",
      "Failed to fetch submission code: 403\n",
      "Submission ID: 303563182\n",
      "Problem: Clique in the Divisibility Graph (Index: F)\n",
      "Problem Statement: No statement available\n",
      "Verdict: TIME_LIMIT_EXCEEDED\n",
      "Language: C++23 (GCC 14-64, msys2)\n",
      "Submission Time: 1738175717\n",
      "Code:\n",
      "None\n",
      "--------------------------------------------------\n"
     ]
    }
   ],
   "source": [
    "import requests\n",
    "from bs4 import BeautifulSoup\n",
    "\n",
    "def get_contest_submissions(contest_id):\n",
    "    # API endpoint for contest status\n",
    "    url = f\"https://codeforces.com/api/contest.status?contestId={contest_id}&from=1&count=1000\"\n",
    "    \n",
    "    # Make a GET request to the API\n",
    "    response = requests.get(url)\n",
    "    \n",
    "    if response.status_code != 200:\n",
    "        print(f\"Failed to fetch data: {response.status_code}\")\n",
    "        return None\n",
    "    \n",
    "    # Parse the JSON response\n",
    "    data = response.json()\n",
    "    \n",
    "    if data['status'] != 'OK':\n",
    "        print(f\"API returned an error: {data['comment']}\")\n",
    "        return None\n",
    "    \n",
    "    submissions = data['result']\n",
    "    \n",
    "    # Filter submissions to get 2 accurate and 3 incorrect submissions\n",
    "    accurate_submissions = []\n",
    "    incorrect_submissions = []\n",
    "    \n",
    "    for submission in submissions:\n",
    "        if submission['verdict'] == 'OK' and len(accurate_submissions) < 2:\n",
    "            accurate_submissions.append(submission)\n",
    "        elif submission['verdict'] != 'OK' and len(incorrect_submissions) < 3:\n",
    "            incorrect_submissions.append(submission)\n",
    "        \n",
    "        if len(accurate_submissions) == 2 and len(incorrect_submissions) == 3:\n",
    "            break\n",
    "    \n",
    "    return accurate_submissions, incorrect_submissions\n",
    "\n",
    "def get_problem_statement(contest_id, problem_index):\n",
    "    # API endpoint for contest problems\n",
    "    url = f\"https://codeforces.com/api/contest.standings?contestId={contest_id}&from=1&count=1\"\n",
    "    \n",
    "    # Make a GET request to the API\n",
    "    response = requests.get(url)\n",
    "    \n",
    "    if response.status_code != 200:\n",
    "        print(f\"Failed to fetch data: {response.status_code}\")\n",
    "        return None\n",
    "    \n",
    "    # Parse the JSON response\n",
    "    data = response.json()\n",
    "    \n",
    "    if data['status'] != 'OK':\n",
    "        print(f\"API returned an error: {data['comment']}\")\n",
    "        return None\n",
    "    \n",
    "    problems = data['result']['problems']\n",
    "    \n",
    "    for problem in problems:\n",
    "        if problem['index'] == problem_index:\n",
    "            return problem['name'], problem.get('statement', 'No statement available')\n",
    "    \n",
    "    return None, None\n",
    "\n",
    "def get_submission_code(submission_id):\n",
    "    # URL for the submission page\n",
    "    url = f\"https://codeforces.com/contest/{submission_id.split('/')[0]}/submission/{submission_id.split('/')[1]}\"\n",
    "    \n",
    "    # Make a GET request to the submission page\n",
    "    response = requests.get(url)\n",
    "    \n",
    "    if response.status_code != 200:\n",
    "        print(f\"Failed to fetch submission code: {response.status_code}\")\n",
    "        return None\n",
    "    \n",
    "    # Parse the HTML response using BeautifulSoup\n",
    "    soup = BeautifulSoup(response.text, 'html.parser')\n",
    "    \n",
    "    # Find the <pre> tag containing the source code\n",
    "    code_tag = soup.find('pre', {'id': 'program-source-text'})\n",
    "    \n",
    "    if code_tag:\n",
    "        return code_tag.text.strip()\n",
    "    else:\n",
    "        return None\n",
    "\n",
    "def main():\n",
    "    contest_id = input(\"Enter the contest ID: \")\n",
    "    \n",
    "    accurate_submissions, incorrect_submissions = get_contest_submissions(contest_id)\n",
    "    \n",
    "    if not accurate_submissions or not incorrect_submissions:\n",
    "        print(\"Could not fetch the required number of submissions.\")\n",
    "        return\n",
    "    \n",
    "    print(\"\\nAccurate Submissions:\")\n",
    "    for submission in accurate_submissions:\n",
    "        problem_index = submission['problem']['index']\n",
    "        problem_name, problem_statement = get_problem_statement(contest_id, problem_index)\n",
    "        submission_code = get_submission_code(f\"{submission['contestId']}/{submission['id']}\")\n",
    "        \n",
    "        print(f\"Submission ID: {submission['id']}\")\n",
    "        print(f\"Problem: {problem_name} (Index: {problem_index})\")\n",
    "        print(f\"Problem Statement: {problem_statement}\")\n",
    "        print(f\"Verdict: {submission['verdict']}\")\n",
    "        print(f\"Language: {submission['programmingLanguage']}\")\n",
    "        print(f\"Submission Time: {submission['creationTimeSeconds']}\")\n",
    "        print(f\"Code:\\n{submission_code}\")\n",
    "        print(\"-\" * 50)\n",
    "    \n",
    "    print(\"\\nIncorrect Submissions:\")\n",
    "    for submission in incorrect_submissions:\n",
    "        problem_index = submission['problem']['index']\n",
    "        problem_name, problem_statement = get_problem_statement(contest_id, problem_index)\n",
    "        submission_code = get_submission_code(f\"{submission['contestId']}/{submission['id']}\")\n",
    "        \n",
    "        print(f\"Submission ID: {submission['id']}\")\n",
    "        print(f\"Problem: {problem_name} (Index: {problem_index})\")\n",
    "        print(f\"Problem Statement: {problem_statement}\")\n",
    "        print(f\"Verdict: {submission['verdict']}\")\n",
    "        print(f\"Language: {submission['programmingLanguage']}\")\n",
    "        print(f\"Submission Time: {submission['creationTimeSeconds']}\")\n",
    "        print(f\"Code:\\n{submission_code}\")\n",
    "        print(\"-\" * 50)\n",
    "\n",
    "if __name__ == \"__main__\":\n",
    "    main()"
   ]
  },
  {
   "cell_type": "code",
   "execution_count": null,
   "metadata": {},
   "outputs": [],
   "source": []
  }
 ],
 "metadata": {
  "kernelspec": {
   "display_name": ".venv",
   "language": "python",
   "name": "python3"
  },
  "language_info": {
   "codemirror_mode": {
    "name": "ipython",
    "version": 3
   },
   "file_extension": ".py",
   "mimetype": "text/x-python",
   "name": "python",
   "nbconvert_exporter": "python",
   "pygments_lexer": "ipython3",
   "version": "3.10.4"
  }
 },
 "nbformat": 4,
 "nbformat_minor": 2
}
