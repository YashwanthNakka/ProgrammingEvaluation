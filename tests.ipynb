{
 "cells": [
  {
   "cell_type": "code",
   "execution_count": 2,
   "metadata": {},
   "outputs": [],
   "source": [
    "import json"
   ]
  },
  {
   "cell_type": "code",
   "execution_count": 3,
   "metadata": {},
   "outputs": [],
   "source": [
    "PROBLEM, CODE = \"Hi\", \"Helloworld\""
   ]
  },
  {
   "cell_type": "code",
   "execution_count": 8,
   "metadata": {},
   "outputs": [],
   "source": [
    "with open(\"CodeJudge/prompts.json\", \"r\") as file:\n",
    "    dic = json.loads(file.read())"
   ]
  },
  {
   "cell_type": "code",
   "execution_count": 9,
   "metadata": {},
   "outputs": [],
   "source": [
    "prompt = dic[\"faultlocalization\"][0][\"prompt\"]"
   ]
  },
  {
   "cell_type": "code",
   "execution_count": 13,
   "metadata": {},
   "outputs": [
    {
     "ename": "KeyError",
     "evalue": "'PROBLEM'",
     "output_type": "error",
     "traceback": [
      "\u001b[1;31m---------------------------------------------------------------------------\u001b[0m",
      "\u001b[1;31mKeyError\u001b[0m                                  Traceback (most recent call last)",
      "Cell \u001b[1;32mIn[13], line 1\u001b[0m\n\u001b[1;32m----> 1\u001b[0m \u001b[43mprompt\u001b[49m\u001b[38;5;241;43m.\u001b[39;49m\u001b[43mformat\u001b[49m\u001b[43m(\u001b[49m\u001b[43m)\u001b[49m\n",
      "\u001b[1;31mKeyError\u001b[0m: 'PROBLEM'"
     ]
    }
   ],
   "source": [
    "prompt.format()"
   ]
  },
  {
   "cell_type": "code",
   "execution_count": 1,
   "metadata": {},
   "outputs": [
    {
     "name": "stderr",
     "output_type": "stream",
     "text": [
      "c:\\Users\\adity\\Desktop\\Thesis\\.venv\\lib\\site-packages\\tqdm\\auto.py:21: TqdmWarning: IProgress not found. Please update jupyter and ipywidgets. See https://ipywidgets.readthedocs.io/en/stable/user_install.html\n",
      "  from .autonotebook import tqdm as notebook_tqdm\n"
     ]
    },
    {
     "data": {
      "text/plain": [
       "DatasetDict({\n",
       "    test: Dataset({\n",
       "        features: ['task_id', 'prompt', 'declaration', 'canonical_solution', 'test', 'example_test'],\n",
       "        num_rows: 164\n",
       "    })\n",
       "})"
      ]
     },
     "execution_count": 1,
     "metadata": {},
     "output_type": "execute_result"
    }
   ],
   "source": [
    "from CodeJudge import codejudge\n",
    "from datasets import load_dataset\n",
    "data = load_dataset(\"THUDM/humaneval-x\", trust_remote_code=True)\n",
    "data"
   ]
  },
  {
   "cell_type": "code",
   "execution_count": 2,
   "metadata": {},
   "outputs": [
    {
     "data": {
      "text/plain": [
       "{'task_id': 'Python/0',\n",
       " 'prompt': 'from typing import List\\n\\n\\ndef has_close_elements(numbers: List[float], threshold: float) -> bool:\\n    \"\"\" Check if in given list of numbers, are any two numbers closer to each other than\\n    given threshold.\\n    >>> has_close_elements([1.0, 2.0, 3.0], 0.5)\\n    False\\n    >>> has_close_elements([1.0, 2.8, 3.0, 4.0, 5.0, 2.0], 0.3)\\n    True\\n    \"\"\"\\n',\n",
       " 'declaration': 'from typing import List\\n\\n\\ndef has_close_elements(numbers: List[float], threshold: float) -> bool:\\n',\n",
       " 'canonical_solution': '    for idx, elem in enumerate(numbers):\\n        for idx2, elem2 in enumerate(numbers):\\n            if idx != idx2:\\n                distance = abs(elem - elem2)\\n                if distance < threshold:\\n                    return True\\n\\n    return False\\n',\n",
       " 'test': \"\\n\\nMETADATA = {\\n    'author': 'jt',\\n    'dataset': 'test'\\n}\\n\\n\\ndef check(has_close_elements):\\n    assert has_close_elements([1.0, 2.0, 3.9, 4.0, 5.0, 2.2], 0.3) == True\\n    assert has_close_elements([1.0, 2.0, 3.9, 4.0, 5.0, 2.2], 0.05) == False\\n    assert has_close_elements([1.0, 2.0, 5.9, 4.0, 5.0], 0.95) == True\\n    assert has_close_elements([1.0, 2.0, 5.9, 4.0, 5.0], 0.8) == False\\n    assert has_close_elements([1.0, 2.0, 3.0, 4.0, 5.0, 2.0], 0.1) == True\\n    assert has_close_elements([1.1, 2.2, 3.1, 4.1, 5.1], 1.0) == True\\n    assert has_close_elements([1.1, 2.2, 3.1, 4.1, 5.1], 0.5) == False\\n\\ncheck(has_close_elements)\",\n",
       " 'example_test': 'def check(has_close_elements):\\n    assert has_close_elements([1.0, 2.0, 3.0], 0.5) == False\\n    assert has_close_elements([1.0, 2.8, 3.0, 4.0, 5.0, 2.0], 0.3) == True\\ncheck(has_close_elements)\\n'}"
      ]
     },
     "execution_count": 2,
     "metadata": {},
     "output_type": "execute_result"
    }
   ],
   "source": [
    "data[\"test\"][0]"
   ]
  },
  {
   "cell_type": "code",
   "execution_count": 3,
   "metadata": {},
   "outputs": [],
   "source": [
    "problem, code = data[\"test\"][0][\"prompt\"], data[\"test\"][0][\"canonical_solution\"]"
   ]
  },
  {
   "cell_type": "code",
   "execution_count": 4,
   "metadata": {},
   "outputs": [
    {
     "name": "stdout",
     "output_type": "stream",
     "text": [
      "from typing import List\n",
      "\n",
      "\n",
      "def has_close_elements(numbers: List[float], threshold: float) -> bool:\n",
      "    \"\"\" Check if in given list of numbers, are any two numbers closer to each other than\n",
      "    given threshold.\n",
      "    >>> has_close_elements([1.0, 2.0, 3.0], 0.5)\n",
      "    False\n",
      "    >>> has_close_elements([1.0, 2.8, 3.0, 4.0, 5.0, 2.0], 0.3)\n",
      "    True\n",
      "    \"\"\"\n",
      "\n",
      "    for idx, elem in enumerate(numbers):\n",
      "        for idx2, elem2 in enumerate(numbers):\n",
      "            if idx != idx2:\n",
      "                distance = abs(elem - elem2)\n",
      "                if distance < threshold:\n",
      "                    return True\n",
      "\n",
      "    return False\n",
      "\n"
     ]
    }
   ],
   "source": [
    "print(problem)\n",
    "print(code)"
   ]
  },
  {
   "cell_type": "code",
   "execution_count": 1,
   "metadata": {},
   "outputs": [
    {
     "ename": "NameError",
     "evalue": "name 'codejudge' is not defined",
     "output_type": "error",
     "traceback": [
      "\u001b[1;31m---------------------------------------------------------------------------\u001b[0m",
      "\u001b[1;31mNameError\u001b[0m                                 Traceback (most recent call last)",
      "Cell \u001b[1;32mIn[1], line 1\u001b[0m\n\u001b[1;32m----> 1\u001b[0m judge \u001b[38;5;241m=\u001b[39m \u001b[43mcodejudge\u001b[49m\u001b[38;5;241m.\u001b[39mCodeJudge(promptLocation\u001b[38;5;241m=\u001b[39m\u001b[38;5;124m\"\u001b[39m\u001b[38;5;124m./CodeJudge/prompts.json\u001b[39m\u001b[38;5;124m\"\u001b[39m)\n",
      "\u001b[1;31mNameError\u001b[0m: name 'codejudge' is not defined"
     ]
    }
   ],
   "source": [
    "judge = codejudge.CodeJudge(promptLocation=\"./CodeJudge/prompts.json\")"
   ]
  },
  {
   "cell_type": "code",
   "execution_count": 6,
   "metadata": {},
   "outputs": [],
   "source": [
    "# problem = r'''from typing import List def separate_paren_groups(paren_string: str) -> List[str]: \"\"\" Input to this function is a string containing multiple groups of nested parentheses. Your goal is to separate those group into separate strings and return the list of those. Separate groups are balanced (each open brace is properly closed) and not nested within each other Ignore any spaces in the input string. >>> separate_paren_groups('( ) (( )) (( )( ))') ['()', '(())', '(()())'] \"\"'''\n",
    "# code = r'''result = [] current_string = [] current_depth = 0 for c in paren_string: if c == '(': current_depth += 1 current_string.append(c) elif c == ')': current_depth -= 1 current_string.append(c) if current_depth == 0: result.append(''.join(current_string)) current_string.clear() return result'''"
   ]
  },
  {
   "cell_type": "code",
   "execution_count": 7,
   "metadata": {},
   "outputs": [
    {
     "name": "stdout",
     "output_type": "stream",
     "text": [
      "Let's analyze the provided code for correctness and functionality based on the criteria you've outlined.\n",
      "\n",
      "### 1. Logical Correctness\n",
      "The function `has_close_elements` is designed to check if there are any two numbers in the list `numbers` that are closer to each other than a specified `threshold`. The logic implemented in the nested loops correctly checks each pair of elements in the list. \n",
      "\n",
      "- The outer loop iterates through each element (`elem`), and the inner loop iterates through each element again (`elem2`).\n",
      "- The condition `if idx != idx2` ensures that the same element is not compared to itself.\n",
      "- The distance between the two elements is calculated using `abs(elem - elem2)`, and if this distance is less than the `threshold`, the function returns `True`.\n",
      "- If no such pair is found after checking all combinations, the function returns `False`.\n",
      "\n",
      "### 2. Algorithm Implementation\n",
      "The algorithm is implemented correctly, but it is not efficient. The time complexity of this implementation is O(n^2) due to the nested loops, where n is the number of elements in the list. This can be problematic for large lists, as it may lead to performance issues.\n",
      "\n",
      "A more efficient approach could involve sorting the list first and then checking adjacent elements, which would reduce the time complexity to O(n log n) for sorting and O(n) for the subsequent check, resulting in an overall complexity of O(n log n).\n",
      "\n",
      "### 3. Edge Case Handling\n",
      "The function does not explicitly handle some edge cases:\n",
      "\n",
      "- **Empty List**: If `numbers` is an empty list, the function will return `False`, which is correct since there are no elements to compare.\n",
      "- **Single Element List**: If `numbers` contains only one element, the function will also return `False`, which is correct for the same reason.\n",
      "- **Negative Threshold**: If the `threshold` is negative, the function will always return `False` since distances (absolute differences) cannot be negative. This behavior is not explicitly handled, and it might be worth adding a check to return `False` immediately if the threshold is negative.\n",
      "- **Identical Elements**: If the list contains identical elements, the function will return `True` if the threshold is zero or less, which is correct. However, if the threshold is positive, it will return `True` for any identical elements.\n",
      "\n",
      "### Suggested Improvements\n",
      "1. **Efficiency**: Consider using a sorting approach to improve performance.\n",
      "2. **Threshold Check**: Add a check for negative thresholds to handle that case explicitly.\n",
      "3. **Documentation**: The docstring could be expanded to include information about edge cases and expected behavior with negative thresholds.\n",
      "\n",
      "### Revised Code Example\n",
      "Here’s a revised version of the function that incorporates some of these suggestions:\n",
      "\n",
      "```python\n",
      "from typing import List\n",
      "\n",
      "def has_close_elements(numbers: List[float], threshold: float) -> bool:\n",
      "    \"\"\" Check if in given list of numbers, are any two numbers closer to each other than\n",
      "    given threshold.\n",
      "    \n",
      "    >>> has_close_elements([1.0, 2.0, 3.0], 0.5)\n",
      "    False\n",
      "    >>> has_close_elements([1.0, 2.8, 3.0, 4.0, 5.0, 2.0], 0.3)\n",
      "    True\n",
      "    >>> has_close_elements([], 0.5)\n",
      "    False\n",
      "    >>> has_close_elements([1.0], 0.5)\n",
      "    False\n",
      "    >>> has_close_elements([1.0, 1.0], 0.0)\n",
      "    True\n",
      "    >>> has_close_elements([1.0, 2.0], -0.1)\n",
      "    False\n",
      "    \"\"\"\n",
      "    if threshold < 0:\n",
      "        return False\n",
      "\n",
      "    numbers.sort()\n",
      "    for i in range(len(numbers) - 1):\n",
      "        if abs(numbers[i] - numbers[i + 1]) < threshold:\n",
      "            return True\n",
      "\n",
      "    return False\n",
      "```\n",
      "\n",
      "This revised version improves efficiency and handles edge cases more explicitly.\n"
     ]
    },
    {
     "data": {
      "text/plain": [
       "'No'"
      ]
     },
     "execution_count": 7,
     "metadata": {},
     "output_type": "execute_result"
    }
   ],
   "source": [
    "judge.evaluateBinary(problem, code)"
   ]
  },
  {
   "cell_type": "code",
   "execution_count": null,
   "metadata": {},
   "outputs": [],
   "source": []
  }
 ],
 "metadata": {
  "kernelspec": {
   "display_name": ".venv",
   "language": "python",
   "name": "python3"
  },
  "language_info": {
   "codemirror_mode": {
    "name": "ipython",
    "version": 3
   },
   "file_extension": ".py",
   "mimetype": "text/x-python",
   "name": "python",
   "nbconvert_exporter": "python",
   "pygments_lexer": "ipython3",
   "version": "3.10.4"
  }
 },
 "nbformat": 4,
 "nbformat_minor": 2
}
