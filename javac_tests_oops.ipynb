{
 "cells": [
  {
   "cell_type": "code",
   "execution_count": 1,
   "metadata": {},
   "outputs": [],
   "source": [
    "import subprocess\n",
    "import re\n",
    "import json\n",
    "\n",
    "# def calculate_score(error_count: int) -> float:|\n",
    "#     if error_count == 0:\n",
    "#         return 5.0\n",
    "#     elif error_count == 1:\n",
    "#         return 4.5\n",
    "#     elif error_count in [2, 3]:\n",
    "#         return 4.0\n",
    "#     elif error_count == 4:\n",
    "#         return 3.5\n",
    "#     elif error_count in [5, 6]:\n",
    "#         return 3.0\n",
    "#     elif error_count in [7, 8]:\n",
    "#         return 2.5\n",
    "#     elif error_count == 9:\n",
    "#         return 2.0\n",
    "#     elif error_count in [10, 11]:\n",
    "#         return 1.5\n",
    "#     elif error_count in [12, 13]:\n",
    "#         return 1.0\n",
    "#     elif error_count in [14, 15]:\n",
    "#         return 0.5\n",
    "#     else:\n",
    "#         return 0.0\n",
    "\n",
    "def calculate_score(error_count: int) -> float:\n",
    "    \"\"\"Calculates score by deducting 0.75 marks for each error.\"\"\"\n",
    "    score = max(5.0 - (0.75 * error_count), 0.0)\n",
    "    return round(score, 2)  # Rounds to 2 decimal places\n",
    "\n",
    "def check_java_syntax(java_file_path: str) -> tuple[int, float, dict]:\n",
    "    \"\"\"\n",
    "    Reads Java code from a file and checks for syntax errors using `javac`.\n",
    "    Returns the error count, score, and a dictionary of errors.\n",
    "    \"\"\"\n",
    "    error_dict = {}  # Dictionary to store errors by line number\n",
    "    \n",
    "    try:\n",
    "        # Compile the Java file using javac\n",
    "        result = subprocess.run(\n",
    "            [\"javac\", java_file_path],\n",
    "            capture_output=True,\n",
    "            text=True\n",
    "        )\n",
    "        \n",
    "        error_count = 0\n",
    "        if result.stderr:\n",
    "            print(\"Compilation Errors:\")\n",
    "            errors = result.stderr.strip().split('\\n')\n",
    "            \n",
    "            # Process each error message\n",
    "            for error in errors:\n",
    "                # Skip the last line which contains error count\n",
    "                if 'error' in error and not re.search(r'\\d+ errors?$', error):\n",
    "                    # Extract line number using regex\n",
    "                    line_match = re.search(r':(\\d+):', error)\n",
    "                    if line_match:\n",
    "                        line_num = int(line_match.group(1))\n",
    "                        # Remove the file path and line number from the error message\n",
    "                        error_msg = re.sub(r'^.*?:\\d+:', '', error).strip()\n",
    "                        \n",
    "                        # Add error to dictionary\n",
    "                        if line_num not in error_dict:\n",
    "                            error_dict[line_num] = []\n",
    "                        error_dict[line_num].append(error_msg)\n",
    "                        print(f\"- Line {line_num}: {error_msg}\")\n",
    "            \n",
    "            # Extract the total error count\n",
    "            last_line = errors[-1]\n",
    "            if match := re.search(r'(\\d+) errors?', last_line):\n",
    "                error_count = int(match.group(1))\n",
    "        else:\n",
    "            print(\"No syntax errors found!\")\n",
    "\n",
    "        # Calculate score based on error count\n",
    "        score = calculate_score(len(error_dict))\n",
    "        print(f\"\\nCompiler reported errors: {error_count}\")\n",
    "        print(f\"Number of lines with errors: {len(error_dict)}\")\n",
    "        print(f\"Score: {score}/5\")\n",
    "        print(\"\\nError Dictionary:\")\n",
    "        print(json.dumps(error_dict, indent=2))\n",
    "        \n",
    "        return error_count, score, error_dict\n",
    "        \n",
    "    except Exception as e:\n",
    "        print(f\"An error occurred: {e}\")\n",
    "        return -1, 0.0, {}\n",
    "\n",
    "# # Example usage\n",
    "# java_file_path = \"CricketAnalyticsSolution.java\"  # Replace with the actual Java file path\n",
    "# error_count, score, error_dict = check_java_syntax(java_file_path)\n"
   ]
  },
  {
   "cell_type": "code",
   "execution_count": 21,
   "metadata": {},
   "outputs": [],
   "source": [
    "feedbackPromptAIO = '''You are an expert code evaluator, evaluating code submissions for a Java based Object Oriented Programming test at a university level.\n",
    "You will be provided with the question and a rubric that describes the criteria for evaluation, with a marking scheme. \n",
    "The question is a code sample that the examiner provides, containing a template wherein the student is required to write the code as well as comments and instructions from the examiner's end.\n",
    "Following this you will be provided with the code submission, along with the response from the Java compiler that runs this code.\n",
    "You are to evaluate the code based only on logical correctness. You are to ignore any syntax errors that the compiler may have thrown. \n",
    "Any syntax errors that you encounter can be treated as correct syntax, and you are to infer the student's logical flow and intention from the code.\n",
    "You are to return your response as a JSON dictionary containing a detailed, nested evaluation of the student's marks for each line in the rubric.\n",
    "For each line in the rubric, you are to provide the line as the key and your assigned marks as the value.\n",
    "DO NOT RETURN ANY ADDITIONAL TEXT ASIDE FROM THE JSON DICTIONARY.\n",
    "Question: {}\n",
    "Rubric: {}\n",
    "Code Submission: {}\n",
    "Compiler Response: {}\n",
    "'''\n",
    "\n",
    "feedbackPromptTwoStepPart1 = '''You are an expert code evaluator, evaluating code submissions for a Java based Object Oriented Programming test at a university level.\n",
    "You will be provided with the code submission and no context whatsoever. You are to infer the student's logical flow and intention from the code.\n",
    "You are to ignore any syntaxical errors, and are solely to evaluate the code based on logical correctness.\n",
    "Code Submission: {}\n",
    "'''\n",
    "\n",
    "feedbackPromptTwoStepPart2 = '''You are an expert code evaluator, evaluating code submissions for a Java based Object Oriented Programming test at a university level.\n",
    "You will be provided a question, a marking rubric, and also with the logical flow and intention of a student's code. \n",
    "The question is a code sample that the examiner provides, containing a template wherein the student is required to write the code as well as comments and instructions from the examiner's end.\n",
    "You are to compare the student's logic with what was asked by the question and the rubric.\n",
    "Question: {}\n",
    "Rubric: {}\n",
    "Logical Flow and Intention: {}\n",
    "'''"
   ]
  },
  {
   "cell_type": "code",
   "execution_count": 3,
   "metadata": {},
   "outputs": [],
   "source": [
    "question = open('./files/SS_24_25_CBT/CBT_PART_2_QP.java').read()"
   ]
  },
  {
   "cell_type": "code",
   "execution_count": 4,
   "metadata": {},
   "outputs": [
    {
     "data": {
      "text/plain": [
       "'import java.util.Random;\\nimport java.util.Scanner;\\n\\npublic class CBT_PART_2_QP implements Runnable {\\n    \\n\\tprivate final Player player1;\\n    private final Player player2;\\n    private final Player player3;\\n    private final Random random = new Random();\\n    private boolean gameEnded = false;\\n    \\n    private final Object lock = new Object(); //Central lock - use this for inter-thread coordination\\n\\n    public CBT_PART_2_QP(String player1Name, String player2Name, String player3Name) {\\n        this.player1 = new Player(player1Name, this);\\n        this.player2 = new Player(player2Name, this);\\n        this.player3 = new Player(player3Name, this);\\n    }\\n    \\n    /******************** DON\\'T MODIFY THE CODE OF THIS METHOD *****************\\n     * \\n     * This method initializes the game by dealing one visible \\n     * card to each player at the start. It ensures all players begin with a \\n     * known initial score and sets the game\\'s starting state. \\n     **************************************************************************/\\n    private void dealInitialCards() {\\n            int card1 = nextCard();\\n            player1.totalScore += card1; // Add visible card to the total score\\n            System.out.println(player1.name + \" takes \" + card1 + \" (visible)\");\\n            \\n            int card2 = nextCard();\\n            player2.totalScore += card2; // Add visible card to the total score\\n            System.out.println(player2.name + \" takes \" + card2 + \" (visible)\");\\n            \\n            int card3 = nextCard();\\n            player3.totalScore += card3; // Add visible card to the total score\\n            System.out.println(player3.name + \" takes \" + card3 + \" (visible)\");\\n            \\n            /*\\n             * IMP: The hidden card is given to the players when the dealer \\n             * instantiates the Player object \\n             */\\n    }\\n\\n    /**************************************************************************\\n     * DON\"T MODIFY THE CODE OF THIS METHOD\\n     * This method generates a random integer between 1 and 10 (inclusive)\\n     **************************************************************************/\\n    private int nextCard() {\\n        return random.nextInt(10) + 1; // Card between 1 and 10\\n    }\\n    \\n    /************************** Q.1 WRITE CODE FOR THIS METHOD (10 M) *********************************\\n\\t * Check Player\\'s Status: The method first determines if the player has already decided \\n\\t * to pass their turn. If so, it does nothing further for this player. \\n\\t * Prompt for Action: The method then allows the player to choose their action for the turn. \\n\\t * The player is presented with two options: \\n\\t * \\t\\t(a) Take a card to increase their score. \\n\\t * \\t\\t(b) Pass, ending their participation in the game. \\n\\t * Update Player\\'s Status: Based on the player\\'s choice: \\n\\t * \\t\\t(a) If they take a card, their score is updated. \\n\\t * \\t\\t(b) If they pass, they are marked as having finished their participation. \\n\\t * Once the player completes their turn, the method signals all the players (dealer or players)  \\n\\t * that this player\\'s turn is complete, allowing the next player to proceed.\\n\\t **************************************************************************************************/\\n    void playTurn(Player player) {\\n    \\t/* \\n    \\t * Write your code below this comment\\n    \\t */\\n          \\n    \\t\\n    \\t\\n    \\t\\n            System.out.print(player.name + \"\\'s turn. Current score: \" + \\n            \\t\\t\\t\\t\\t\\t\\t\\t\\tplayer.totalScore + \". (1) Take a card or (2) Pass? :\");\\n            Scanner scanner = new Scanner(System.in);\\n            int choice = scanner.nextInt();\\n            \\n            /* \\n        \\t * Some more code below this comment\\n        \\t */\\n        \\n    }\\n\\n    /************************** Q.2 WRITE CODE FOR THIS METHOD (10 M) **********************************\\n     * The determineWinner method identifies the winner of the game once all players have finished \\n     * their turns. Here\\'s a step-by-step description: \\n     * 1. Collect Player Scores - the method evaluates the final scores of all players. \\n     * 2. Check for Valid Scores: It considers only scores that are 21 or less, ignoring players who \\n     * \\t  exceeded this limit. \\n     * 3. Find the Highest Score among the valid scores. \\n     * 4. The player with the highest score is identified as the potential winner. \\n     * 5. If two or more players have the same highest score, the game ends in a tie with no winner. \\n     * 6. The method prints each player\\'s final score and declares the winner or announces a tie. \\n     * 7. The game is marked as ended, signaling all threads to conclude. \\n     **************************************************************************************************/\\n    private void determineWinner() {\\n        \\n    \\t/* Some code goes here */ {\\n            \\n        \\tPlayer[] players = { player1, player2, player3 };\\n            Player winner = null;\\n            \\n            /* \\n        \\t * Write your code below this comment\\n        \\t */\\n\\n            System.out.println(player1.name + \" has \" + player1.totalScore);\\n            System.out.println(player2.name + \" has \" + player2.totalScore);\\n            System.out.println(player3.name + \" has \" + player3.totalScore);\\n\\n            /* Specify the condition */  {\\n                System.out.println(winner.name + \" wins with \" + winner.totalScore + \"!\");\\n            } else {\\n                System.out.println(\"No one wins.\");\\n            }\\n        \\n            /* \\n        \\t * Write more code below this comment\\n        \\t */\\n        }\\n    }\\n\\n    /************************** Q.3 WRITE CODE FOR THIS METHOD (05 M) ************************ \\n     * The dealer starts by dealing the initial cards.\\n\\t * Then, the dealer enters a loop where it waits for all players to finish their turns.\\n\\t * If all players \"PASS\", the dealer determines the winner.\\n\\t * If not all players have passed, the dealer waits for the players.\\n\\t ****************************************************************************************/\\n    public void run() {\\n    \\t/* \\n    \\t * Write your code below this comment\\n    \\t */\\n    }\\n\\n    /************************* Q.4 WRITE CODE FOR THIS METHOD (04 M) ********************************\\n     * The main method:\\n     * Creates a new game instance with a dealer and three players.\\n     * Starts the game thread to run the game loop.\\n     * Starts individual threads for each player.\\n     ************************************************************************************************/\\n    public static void main(String[] args) {\\n    \\t/* \\n    \\t * Write your code below this comment\\n    \\t */\\n    }\\n    \\n    /********************************************************************************************* \\n     * Inner Player class implementing Runnable, allowing each player to play in its own thread. \\n     * *******************************************************************************************/\\n    class Player implements Runnable {\\n        String name;\\n        int hiddenCard;\\n        int totalScore;\\n        boolean hasPassed = false;\\n        Dealer dealer;\\n\\n        Player(String name, Dealer dealer) {\\n            this.name = name;\\n            this.dealer = dealer;\\n            this.hiddenCard = nextCard();\\t//The hidden card is given to the player\\n            this.totalScore = hiddenCard;\\n            System.out.println(name + \" takes \" + hiddenCard + \" (hidden)\");\\n        }\\n\\n        /***************************** Q.5 WRITE CODE FOR THIS METHOD (04) ********************\\n         * The takeCard method:\\n         * \\t\\tDraws a new card and adds its value to the player\\'s total score.\\n         * \\t\\tIf the player\\'s score exceeds 21, they automatically pass the game.\\n         **************************************************************************************/\\n        void takeCard() {\\n            int card;\\n            \\n            /* \\n        \\t * Write your code below this comment\\n        \\t */\\n            \\n            System.out.println(name + \" takes \" + card);\\n            \\n            /* \\n        \\t * Write your code below this comment\\n        \\t */\\n        }\\n\\n        /********************* Q.6 WRITE CODE FOR THIS METHOD (02 M) **********************\\n         * The pass method: \\n         * \\t\\tMarks the player as having passed their turn.\\n         * \\t\\tPrints a message indicating the player has chosen to pass.\\n         **********************************************************************************/\\n        void pass() {\\n        \\t/* \\n        \\t * Write your code below this comment\\n        \\t */\\n        \\t\\n        \\t\\n            System.out.println(name + \" passes.\");\\n        }\\n\\n        /************************ Q.7 WRITE CODE FOR THIS METHOD (05 M) ********************************\\n         * The run method of the Player class: \\n         * Continuously allows the player to take their turn until they either pass or the game ends. \\n         * Calls the game.playTurn() method to handle the player\\'s actions during their turn. \\n         * Waits for the next turn using synchronization until notified that it\\'s their turn again.\\n         **********************************************************************************************/\\n        public void run() {\\n        \\t/* \\n        \\t * Write your code below this comment\\n        \\t */        \\n        }\\n    }    \\n}\\n'"
      ]
     },
     "execution_count": 4,
     "metadata": {},
     "output_type": "execute_result"
    }
   ],
   "source": [
    "question"
   ]
  },
  {
   "cell_type": "code",
   "execution_count": 5,
   "metadata": {},
   "outputs": [
    {
     "name": "stdout",
     "output_type": "stream",
     "text": [
      " \n",
      " \n",
      " \n",
      "I. Game Description: \n",
      "In PART-2, you will implement a classic card game \"21\" by implementing it as a multithreaded application. \n",
      "In this game players aim to reach a score as close as possible to 21 without exceeding it, while competing \n",
      "against each other. This game involves one dealer and exactly three players. The dealer does not play but \n",
      "manages the game and announces the final result. Each player is represented by a separate thread, and each \n",
      "turn and game action is synchronized to prevent conflicts. Here’s how the game works: \n",
      "1. Initial Setup: \n",
      " The dealer thread starts the game by dealing two \"cards\" to each player thread. Each player \n",
      "receives one hidden card, known only to that player, and one visible card, which is displayed \n",
      "publicly (as a total visible score). \n",
      " Cards are randomly generated integers between 1 and 10, inclusive, with each value equally \n",
      "likely. These values represent the points in this simplified version, so there are no suits or special \n",
      "cards. \n",
      "2. Game Play: \n",
      " After receiving initial cards, players take turns to request additional cards, each aiming to get as \n",
      "close to 21 as possible without going over. On each turn, a player may either: \n",
      "o Take a Card: The player requests an additional card and adds its value to their total score. \n",
      "o Pass: The player opts not to take more cards, effectively \"locking in\" their score. Once a \n",
      "player “PASSes”, they cannot request additional cards. \n",
      " A player who has passed is skipped in subsequent rounds. \n",
      " The game progresses in rounds, with each round allowing each active player to take a turn until \n",
      "all players have passed. Once all players have passed, the game ends. \n",
      "3. Endgame and Scoring: \n",
      " After all players have passed, the dealer thread calculates and announces the final scores. \n",
      " The winner is the player whose score is closest to 21 without exceeding it. In case of a tie or if \n",
      "all players exceed 21, no one wins. \n",
      "4. Output Requirements: \n",
      " Output must clearly indicate the sequence of actions, such as initial card distribution, each \n",
      "player’s turn, round progression, and endgame results. \n",
      " Display each player’s decision, the dealer's announcements, and the final scores. \n",
      "II. \n",
      "Example Output: \n",
      "An example output for the game is provided to illustrate the required output format. Your output does not \n",
      "need to be identical but should clearly reflect each action and round of the game in a well-organized \n",
      "sequence. \n",
      "P1 takes 10 (hidden) \n",
      "P2 takes 1 (hidden) \n",
      "P3 takes 3 (hidden) \n",
      "P1 takes 1 (visible) \n",
      "P2 takes 10 (visible) \n",
      "BIRLA INSTITUTE OF TECHNOLOGY AND SCIENCE, PILANI \n",
      "FIRST SEMESTER 2024-25 \n",
      "COMPUTER BASED TEST (OPEN BOOK) \n",
      "OBJECT ORIENTED PROGRAMMING (CS F213), PART-2 \n",
      "TIME: 45 Min \n",
      " \n",
      " \n",
      "MAX MARKS:  40  \n",
      "        DATE:  17/11/2024 \n",
      "P3 takes 10 (visible) \n",
      "P1's turn. Current score: 11. (1) Take a card or (2) Pass? :1 \n",
      "P1 takes 5 \n",
      "P3's turn. Current score: 13. (1) Take a card or (2) Pass? :1 \n",
      "P3 takes 6 \n",
      "P2's turn. Current score: 11. (1) Take a card or (2) Pass? :1 \n",
      "P2 takes 9 \n",
      "P3's turn. Current score: 19. (1) Take a card or (2) Pass? :2 \n",
      "P3 passes. \n",
      "P1's turn. Current score: 16. (1) Take a card or (2) Pass? :2 \n",
      "P1 passes. \n",
      "P2's turn. Current score: 20. (1) Take a card or (2) Pass? :2 \n",
      "P2 passes. \n",
      "P1 has 16 \n",
      "P2 has 20 \n",
      "P3 has 19 \n",
      "P2 wins with 20! \n",
      " \n",
      "***** BEST OF LUCK ***** \n",
      " \n",
      "\n"
     ]
    }
   ],
   "source": [
    "import os.path\n",
    "\n",
    "import fitz\n",
    "from fitz import Document, Page, Rect\n",
    "\n",
    "\n",
    "input_path = \"./files/SS_24_25_CBT/CBT_PART-1-2.pdf\"\n",
    "doc: Document = fitz.open(input_path)\n",
    "\n",
    "pages = doc[3:5]\n",
    "text = \"\"\n",
    "\n",
    "for page in pages:\n",
    "    page.clean_contents() \n",
    "    text += page.get_text()\n",
    "print(text)\n"
   ]
  },
  {
   "cell_type": "code",
   "execution_count": 22,
   "metadata": {},
   "outputs": [],
   "source": [
    "rubric = r'''\n",
    "You are required to implement functionalities for a Cricket Analytics application. The provided template code for this application contains multiple classes and methods related to cricket players, their roles, team information, and various data-handling operations. Your tasks involve implementing several methods, each responsible for performing specific actions like reading data from a file, writing data back, updating player statistics, and filtering data.\n",
    "Tasks and Methods to be Implemented:\n",
    "1. RunsComparator: compare Method [2 marks] Write code for comparing runs scored by two players in descending order. Return a negative value if the first player has more runs, a positive value if the second player has more runs, or zero if they have the same number of runs.\n",
    "2. CricketDataHandler: readPlayersFromFile Method [9 marks] Write code for reading player data from the input CSV file and creating a list of Player objects.\n",
    "● Step 1: Create an empty list to store player details. [1 mark]\n",
    "● Step 2: Open the specified file for reading data. [1 mark]\n",
    "● Step 3: Ignore the first line since it contains the column names. [1 mark]\n",
    "● Step 4: Read each line one by one until reaching the end of the file. [1 mark]\n",
    "● Step 5: Split the line into different pieces of information. [1 mark]\n",
    "● Step 6: Create a new player using this information. [1 mark]\n",
    "● Step 7: Add the new player to the list. [1 mark]\n",
    "● Step 8: Close the file after reading all data. [1 mark]\n",
    "● Step 9: Return the complete list of players. [1 mark]\n",
    "3. CricketDataHandler: writePlayersToFile Method [4 marks] Write code to write the updated list of players back to the output CSV file. The format of the output file should be the same as that of the input file.\n",
    "● Step 1: Prepare to write data into the specified file. [1 mark]\n",
    "● Step 2: Write the column names as the first line of the file. [1 mark]\n",
    "● Step 3: For each player in the list, convert their details to the desired format. [1 mark]\n",
    "● Step 4: Write each player's information to the file. [1 mark]\n",
    "4. CricketDataHandler: updatePlayerStats Method [5 marks] Implement the method to update a player's stats (runs and wickets).\n",
    "● Step 1: Go through each player in the list. [1 mark]\n",
    "● Step 2: Check if the current player's name matches the given name. [1 mark]\n",
    "● Step 3: If it matches, update the player's runs with the new value. Updated value will be the sum of the old runs and the argument runs. For example, if a player had 100 runs and the runs argument (to this method) is 50, their new total should be 150 runs. [1 mark]\n",
    "● Step 4: Similarly, update the player's wickets with the new value. Updated value will be the sum of the old wickets and the argument wickets. For example, if they had 10 wickets and the wickets argument (to this method) is 2, their new total should be 12 wickets[1 mark]\n",
    "● Step 5: If no player matches the given name, throw an IllegalArgumentException. [1 mark]\n",
    "5. CricketDataHandler: calculateTeamAverageRuns Method [5 marks] Write code to calculate the average runs scored by players of a specific team.\n",
    "● Step 1: Filter players belonging to the specified team. [2 marks]\n",
    "● Step 2: If no players for this team exist, throw an IllegalArgumentException exception. [1 mark]\n",
    "● Step 3: Calculate the total runs scored by all players from this team. [1 mark]\n",
    "● Step 4: Compute and return the average runs scored. [1 mark]\n",
    "6. TeamFilter: filter Method [5 marks] Write code to filter players by their team.\n",
    "● Step 1: Create an empty list for players matching the criteria. [1 mark]\n",
    "● Step 2: Go through each player in the players list. [1 mark]\n",
    "● Step 3: If the player's team matches the given name, add them to the list. [2 marks]\n",
    "● Step 4: Return the list containing all matching players. [1 mark]\n",
    "7. AllRounderStatsFilter: filter Method [5 marks] Write code to filter all-rounder players which satisfy the provided criteria (i.e. filter those all-rounders who have runs and wickets greater than or equal to the runs and wickets specified in the criteria respectively).\n",
    "● Step 1: Create an empty list for players matching the criteria. [1 mark]\n",
    "● Step 2: Go through each player in the list. [1 mark]\n",
    "● Step 3: If the player is an all-rounder and meets the given criteria for both runs and wickets, add them to the list. [2 marks]\n",
    "● Step 4: Return the list containing all matching players. [1 mark]'''"
   ]
  },
  {
   "cell_type": "code",
   "execution_count": 7,
   "metadata": {},
   "outputs": [
    {
     "name": "stdout",
     "output_type": "stream",
     "text": [
      "Compilation Errors:\n",
      "- Line 236: error: class CBT_PART_1_QP is public, should be declared in a file named CBT_PART_1_QP.java\n",
      "- Line 140: error: no suitable method found for toString(String)\n",
      "\n",
      "Compiler reported errors: 2\n",
      "Number of lines with errors: 2\n",
      "Score: 3.5/5\n",
      "\n",
      "Error Dictionary:\n",
      "{\n",
      "  \"236\": [\n",
      "    \"error: class CBT_PART_1_QP is public, should be declared in a file named CBT_PART_1_QP.java\"\n",
      "  ],\n",
      "  \"140\": [\n",
      "    \"error: no suitable method found for toString(String)\"\n",
      "  ]\n",
      "}\n"
     ]
    }
   ],
   "source": [
    "studentFilepath = \"C:\\\\Users\\\\adity\\\\Desktop\\\\Thesis\\\\files\\\\selected_solutions\\\\1289.java\"\n",
    "studentSampleSolution = open(studentFilepath).read()\n",
    "studentErrorCount, studentScore, studentErrorDict = check_java_syntax(studentFilepath)"
   ]
  },
  {
   "cell_type": "code",
   "execution_count": 8,
   "metadata": {},
   "outputs": [
    {
     "data": {
      "text/plain": [
       "(2,\n",
       " 3.5,\n",
       " {236: ['error: class CBT_PART_1_QP is public, should be declared in a file named CBT_PART_1_QP.java'],\n",
       "  140: ['error: no suitable method found for toString(String)']})"
      ]
     },
     "execution_count": 8,
     "metadata": {},
     "output_type": "execute_result"
    }
   ],
   "source": [
    "studentErrorCount, studentScore, studentErrorDict"
   ]
  },
  {
   "cell_type": "code",
   "execution_count": 23,
   "metadata": {},
   "outputs": [],
   "source": [
    "# stageOnePrompt = replaceKeys(prompts[0][\"prompt\"], [\"PROBLEM\", \"CODE\"], [problem, code])\n",
    "#         stageOneResponse = self.llm.invoke(stageOnePrompt).content\n",
    "\n",
    "finalPrompt = feedbackPromptAIO.format(question, rubric, studentSampleSolution, studentErrorDict)"
   ]
  },
  {
   "cell_type": "code",
   "execution_count": 11,
   "metadata": {},
   "outputs": [],
   "source": [
    "from langchain_openai import ChatOpenAI"
   ]
  },
  {
   "cell_type": "code",
   "execution_count": 24,
   "metadata": {},
   "outputs": [],
   "source": [
    "llm = ChatOpenAI(model=\"gpt-4o-mini\", temperature=0)\n",
    "llm = llm.bind(response_format={\"type\": \"json_object\"})\n",
    "response = json.loads(llm.invoke(finalPrompt).content)"
   ]
  },
  {
   "cell_type": "code",
   "execution_count": 26,
   "metadata": {},
   "outputs": [
    {
     "data": {
      "text/plain": [
       "{'RunsComparator: compare Method': 2,\n",
       " 'CricketDataHandler: readPlayersFromFile Method': {'Step 1: Create an empty list to store player details': 1,\n",
       "  'Step 2: Open the specified file for reading data': 1,\n",
       "  'Step 3: Ignore the first line since it contains the column names': 1,\n",
       "  'Step 4: Read each line one by one until reaching the end of the file': 1,\n",
       "  'Step 5: Split the line into different pieces of information': 1,\n",
       "  'Step 6: Create a new player using this information': 1,\n",
       "  'Step 7: Add the new player to the list': 1,\n",
       "  'Step 8: Close the file after reading all data': 1,\n",
       "  'Step 9: Return the complete list of players': 0},\n",
       " 'CricketDataHandler: writePlayersToFile Method': {'Step 1: Prepare to write data into the specified file': 0,\n",
       "  'Step 2: Write the column names as the first line of the file': 0,\n",
       "  'Step 3: For each player in the list, convert their details to the desired format': 0,\n",
       "  \"Step 4: Write each player's information to the file\": 0},\n",
       " 'CricketDataHandler: updatePlayerStats Method': {'Step 1: Go through each player in the list': 1,\n",
       "  \"Step 2: Check if the current player's name matches the given name\": 1,\n",
       "  \"Step 3: If it matches, update the player's runs with the new value\": 1,\n",
       "  \"Step 4: Similarly, update the player's wickets with the new value\": 1,\n",
       "  'Step 5: If no player matches the given name, throw an IllegalArgumentException': 1},\n",
       " 'CricketDataHandler: calculateTeamAverageRuns Method': {'Step 1: Filter players belonging to the specified team': 2,\n",
       "  'Step 2: If no players for this team exist, throw an IllegalArgumentException exception': 0,\n",
       "  'Step 3: Calculate the total runs scored by all players from this team': 1,\n",
       "  'Step 4: Compute and return the average runs scored': 1},\n",
       " 'TeamFilter: filter Method': {'Step 1: Create an empty list for players matching the criteria': 1,\n",
       "  'Step 2: Go through each player in the players list': 1,\n",
       "  \"Step 3: If the player's team matches the given name, add them to the list\": 2,\n",
       "  'Step 4: Return the list containing all matching players': 1},\n",
       " 'AllRounderStatsFilter: filter Method': {'Step 1: Create an empty list for players matching the criteria': 1,\n",
       "  'Step 2: Go through each player in the list': 1,\n",
       "  'Step 3: If the player is an all-rounder and meets the given criteria for both runs and wickets, add them to the list': 2,\n",
       "  'Step 4: Return the list containing all matching players': 1}}"
      ]
     },
     "execution_count": 26,
     "metadata": {},
     "output_type": "execute_result"
    }
   ],
   "source": [
    "response"
   ]
  },
  {
   "cell_type": "code",
   "execution_count": 28,
   "metadata": {},
   "outputs": [],
   "source": [
    "finalMarks = 0\n",
    "def getMarks(evaluation: dict):\n",
    "    global finalMarks\n",
    "    for key in evaluation:\n",
    "        if type(evaluation[key]) == dict:\n",
    "            getMarks(evaluation[key])\n",
    "        elif type(evaluation[key]) == int:\n",
    "            finalMarks += evaluation[key]\n",
    "\n",
    "getMarks(response)"
   ]
  },
  {
   "cell_type": "code",
   "execution_count": 29,
   "metadata": {},
   "outputs": [
    {
     "data": {
      "text/plain": [
       "29"
      ]
     },
     "execution_count": 29,
     "metadata": {},
     "output_type": "execute_result"
    }
   ],
   "source": [
    "finalMarks"
   ]
  },
  {
   "cell_type": "code",
   "execution_count": 34,
   "metadata": {},
   "outputs": [],
   "source": [
    "def syntacticalEvalution(errorDict: dict):\n",
    "    marks = 4\n",
    "    penalty = 1\n",
    "    errorCount = len(errorDict.keys())\n",
    "    return max(marks - (penalty * errorCount), 0)\n",
    "\n",
    "syntaxMarks = syntacticalEvalution(studentErrorDict)\n"
   ]
  },
  {
   "cell_type": "code",
   "execution_count": 35,
   "metadata": {},
   "outputs": [
    {
     "data": {
      "text/plain": [
       "31"
      ]
     },
     "execution_count": 35,
     "metadata": {},
     "output_type": "execute_result"
    }
   ],
   "source": [
    "totalMarks = finalMarks + syntaxMarks\n",
    "totalMarks\n",
    "# Max Marks = 35 + 5 = 40"
   ]
  },
  {
   "cell_type": "code",
   "execution_count": null,
   "metadata": {},
   "outputs": [],
   "source": []
  }
 ],
 "metadata": {
  "kernelspec": {
   "display_name": ".venv",
   "language": "python",
   "name": "python3"
  },
  "language_info": {
   "codemirror_mode": {
    "name": "ipython",
    "version": 3
   },
   "file_extension": ".py",
   "mimetype": "text/x-python",
   "name": "python",
   "nbconvert_exporter": "python",
   "pygments_lexer": "ipython3",
   "version": "3.10.4"
  }
 },
 "nbformat": 4,
 "nbformat_minor": 2
}
